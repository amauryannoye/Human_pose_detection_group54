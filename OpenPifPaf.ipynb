{
  "nbformat": 4,
  "nbformat_minor": 0,
  "metadata": {
    "colab": {
      "provenance": [],
      "authorship_tag": "ABX9TyNdayKBUsTKHJt0AXZTJgMo",
      "include_colab_link": true
    },
    "kernelspec": {
      "name": "python3",
      "display_name": "Python 3"
    },
    "language_info": {
      "name": "python"
    }
  },
  "cells": [
    {
      "cell_type": "markdown",
      "metadata": {
        "id": "view-in-github",
        "colab_type": "text"
      },
      "source": [
        "<a href=\"https://colab.research.google.com/github/amauryannoye/Human_pose_detection_group54/blob/main/OpenPifPaf.ipynb\" target=\"_parent\"><img src=\"https://colab.research.google.com/assets/colab-badge.svg\" alt=\"Open In Colab\"/></a>"
      ]
    },
    {
      "cell_type": "code",
      "execution_count": 1,
      "metadata": {
        "colab": {
          "base_uri": "https://localhost:8080/"
        },
        "id": "6p2Mc7at9XGF",
        "outputId": "11fdc627-eb3b-49ea-8680-00fb87b9f491"
      },
      "outputs": [
        {
          "output_type": "stream",
          "name": "stdout",
          "text": [
            "Cloning into 'openpifpaf'...\n",
            "remote: Enumerating objects: 14127, done.\u001b[K\n",
            "remote: Counting objects: 100% (557/557), done.\u001b[K\n",
            "remote: Compressing objects: 100% (287/287), done.\u001b[K\n",
            "remote: Total 14127 (delta 221), reused 525 (delta 206), pack-reused 13570\u001b[K\n",
            "Receiving objects: 100% (14127/14127), 105.65 MiB | 27.20 MiB/s, done.\n",
            "Resolving deltas: 100% (9664/9664), done.\n"
          ]
        }
      ],
      "source": [
        "!git clone https://github.com/vita-epfl/openpifpaf"
      ]
    },
    {
      "cell_type": "code",
      "source": [
        "%cd /content/vita-epfl-openpifpaf"
      ],
      "metadata": {
        "colab": {
          "base_uri": "https://localhost:8080/"
        },
        "id": "MO-PrBHi78vo",
        "outputId": "6d6808dd-25d4-4d02-d4be-b1a3ae242c3e"
      },
      "execution_count": null,
      "outputs": [
        {
          "output_type": "stream",
          "name": "stdout",
          "text": [
            "[Errno 2] No such file or directory: '/content/vita-epfl-openpifpaf'\n",
            "/content\n"
          ]
        }
      ]
    },
    {
      "cell_type": "code",
      "source": [
        "%%bash\n",
        "\n",
        "mkdir data-mscoco\n",
        "cd data-mscoco\n",
        "\n",
        "wget -q -nc http://images.cocodataset.org/annotations/annotations_trainval2017.zip\n",
        "wget -q -nc http://images.cocodataset.org/annotations/image_info_test2017.zip\n",
        "unzip -q -n annotations_trainval2017.zip\n",
        "unzip -q -n image_info_test2017.zip\n",
        "\n",
        "mkdir images\n",
        "cd images\n",
        "wget -q -nc http://images.cocodataset.org/zips/val2017.zip\n",
        "wget -q -nc http://images.cocodataset.org/zips/train2017.zip\n",
        "wget -q -nc http://images.cocodataset.org/zips/test2017.zip\n",
        "unzip -q -n val2017.zip\n",
        "unzip -q -n train2017.zip\n",
        "unzip -q -n test2017.zip"
      ],
      "metadata": {
        "id": "7yQ-mbka9Yg1"
      },
      "execution_count": null,
      "outputs": []
    },
    {
      "cell_type": "code",
      "source": [
        "%cd openpifpaf/\n",
        "!pip install --upgrade pip\n",
        "!pip install --editable \".\"\n",
        "!pip install --editable \".[backbones,dev,test,train]\"\n",
        "%cd ..\n",
        "!ln -s /work/vita/datasets/data-coco data-mscoco"
      ],
      "metadata": {
        "colab": {
          "base_uri": "https://localhost:8080/"
        },
        "id": "tFv4Hiun9ctT",
        "outputId": "01330c73-7940-4870-c9b1-a6c63b93c384"
      },
      "execution_count": null,
      "outputs": [
        {
          "output_type": "stream",
          "name": "stdout",
          "text": [
            "/content/openpifpaf\n",
            "Looking in indexes: https://pypi.org/simple, https://us-python.pkg.dev/colab-wheels/public/simple/\n",
            "Requirement already satisfied: pip in /usr/local/lib/python3.10/dist-packages (23.1.2)\n",
            "Looking in indexes: https://pypi.org/simple, https://us-python.pkg.dev/colab-wheels/public/simple/\n",
            "Obtaining file:///content/openpifpaf\n",
            "  \u001b[1;31merror\u001b[0m: \u001b[1msubprocess-exited-with-error\u001b[0m\n",
            "  \n",
            "  \u001b[31m×\u001b[0m \u001b[32mpip subprocess to install build dependencies\u001b[0m did not run successfully.\n",
            "  \u001b[31m│\u001b[0m exit code: \u001b[1;36m1\u001b[0m\n",
            "  \u001b[31m╰─>\u001b[0m See above for output.\n",
            "  \n",
            "  \u001b[1;35mnote\u001b[0m: This error originates from a subprocess, and is likely not a problem with pip.\n",
            "  Installing build dependencies ... \u001b[?25l\u001b[?25herror\n",
            "\u001b[1;31merror\u001b[0m: \u001b[1msubprocess-exited-with-error\u001b[0m\n",
            "\n",
            "\u001b[31m×\u001b[0m \u001b[32mpip subprocess to install build dependencies\u001b[0m did not run successfully.\n",
            "\u001b[31m│\u001b[0m exit code: \u001b[1;36m1\u001b[0m\n",
            "\u001b[31m╰─>\u001b[0m See above for output.\n",
            "\n",
            "\u001b[1;35mnote\u001b[0m: This error originates from a subprocess, and is likely not a problem with pip.\n",
            "Looking in indexes: https://pypi.org/simple, https://us-python.pkg.dev/colab-wheels/public/simple/\n",
            "Obtaining file:///content/openpifpaf\n",
            "  \u001b[1;31merror\u001b[0m: \u001b[1msubprocess-exited-with-error\u001b[0m\n",
            "  \n",
            "  \u001b[31m×\u001b[0m \u001b[32mpip subprocess to install build dependencies\u001b[0m did not run successfully.\n",
            "  \u001b[31m│\u001b[0m exit code: \u001b[1;36m1\u001b[0m\n",
            "  \u001b[31m╰─>\u001b[0m See above for output.\n",
            "  \n",
            "  \u001b[1;35mnote\u001b[0m: This error originates from a subprocess, and is likely not a problem with pip.\n",
            "  Installing build dependencies ... \u001b[?25l\u001b[?25herror\n",
            "\u001b[1;31merror\u001b[0m: \u001b[1msubprocess-exited-with-error\u001b[0m\n",
            "\n",
            "\u001b[31m×\u001b[0m \u001b[32mpip subprocess to install build dependencies\u001b[0m did not run successfully.\n",
            "\u001b[31m│\u001b[0m exit code: \u001b[1;36m1\u001b[0m\n",
            "\u001b[31m╰─>\u001b[0m See above for output.\n",
            "\n",
            "\u001b[1;35mnote\u001b[0m: This error originates from a subprocess, and is likely not a problem with pip.\n",
            "/content\n"
          ]
        }
      ]
    },
    {
      "cell_type": "code",
      "source": [
        "!pip install openpifpaf"
      ],
      "metadata": {
        "colab": {
          "base_uri": "https://localhost:8080/"
        },
        "id": "dGb87szo9eJj",
        "outputId": "a2274075-d9fd-484c-e88d-d92e87264d49"
      },
      "execution_count": null,
      "outputs": [
        {
          "output_type": "stream",
          "name": "stdout",
          "text": [
            "Looking in indexes: https://pypi.org/simple, https://us-python.pkg.dev/colab-wheels/public/simple/\n",
            "Collecting openpifpaf\n",
            "  Downloading openpifpaf-0.13.11.tar.gz (202 kB)\n",
            "\u001b[2K     \u001b[90m━━━━━━━━━━━━━━━━━━━━━━━━━━━━━━━━━━━━━━━\u001b[0m \u001b[32m202.3/202.3 kB\u001b[0m \u001b[31m9.6 MB/s\u001b[0m eta \u001b[36m0:00:00\u001b[0m\n",
            "\u001b[?25h  Installing build dependencies ... \u001b[?25l\u001b[?25hdone\n",
            "  Getting requirements to build wheel ... \u001b[?25l\u001b[?25hdone\n",
            "  Preparing metadata (pyproject.toml) ... \u001b[?25l\u001b[?25hdone\n",
            "Collecting importlib-metadata!=3.8.0 (from openpifpaf)\n",
            "  Downloading importlib_metadata-6.6.0-py3-none-any.whl (22 kB)\n",
            "Requirement already satisfied: numpy>=1.16 in /usr/local/lib/python3.10/dist-packages (from openpifpaf) (1.22.4)\n",
            "Collecting pysparkling (from openpifpaf)\n",
            "  Downloading pysparkling-0.6.2.tar.gz (166 kB)\n",
            "\u001b[2K     \u001b[90m━━━━━━━━━━━━━━━━━━━━━━━━━━━━━━━━━━━━━━\u001b[0m \u001b[32m166.2/166.2 kB\u001b[0m \u001b[31m16.9 MB/s\u001b[0m eta \u001b[36m0:00:00\u001b[0m\n",
            "\u001b[?25h  Preparing metadata (setup.py) ... \u001b[?25l\u001b[?25hdone\n",
            "Collecting python-json-logger (from openpifpaf)\n",
            "  Downloading python_json_logger-2.0.7-py3-none-any.whl (8.1 kB)\n",
            "Collecting torch==1.13.1 (from openpifpaf)\n",
            "  Using cached torch-1.13.1-cp310-cp310-manylinux1_x86_64.whl (887.5 MB)\n",
            "Collecting torchvision==0.14.1 (from openpifpaf)\n",
            "  Downloading torchvision-0.14.1-cp310-cp310-manylinux1_x86_64.whl (24.2 MB)\n",
            "\u001b[2K     \u001b[90m━━━━━━━━━━━━━━━━━━━━━━━━━━━━━━━━━━━━━━━━\u001b[0m \u001b[32m24.2/24.2 MB\u001b[0m \u001b[31m75.7 MB/s\u001b[0m eta \u001b[36m0:00:00\u001b[0m\n",
            "\u001b[?25hRequirement already satisfied: pillow!=8.3.0 in /usr/local/lib/python3.10/dist-packages (from openpifpaf) (8.4.0)\n",
            "Requirement already satisfied: typing-extensions in /usr/local/lib/python3.10/dist-packages (from torch==1.13.1->openpifpaf) (4.5.0)\n",
            "Collecting nvidia-cuda-runtime-cu11==11.7.99 (from torch==1.13.1->openpifpaf)\n",
            "  Using cached nvidia_cuda_runtime_cu11-11.7.99-py3-none-manylinux1_x86_64.whl (849 kB)\n",
            "Collecting nvidia-cudnn-cu11==8.5.0.96 (from torch==1.13.1->openpifpaf)\n",
            "  Using cached nvidia_cudnn_cu11-8.5.0.96-2-py3-none-manylinux1_x86_64.whl (557.1 MB)\n",
            "Collecting nvidia-cublas-cu11==11.10.3.66 (from torch==1.13.1->openpifpaf)\n",
            "  Using cached nvidia_cublas_cu11-11.10.3.66-py3-none-manylinux1_x86_64.whl (317.1 MB)\n",
            "Collecting nvidia-cuda-nvrtc-cu11==11.7.99 (from torch==1.13.1->openpifpaf)\n",
            "  Using cached nvidia_cuda_nvrtc_cu11-11.7.99-2-py3-none-manylinux1_x86_64.whl (21.0 MB)\n",
            "Requirement already satisfied: requests in /usr/local/lib/python3.10/dist-packages (from torchvision==0.14.1->openpifpaf) (2.27.1)\n",
            "Requirement already satisfied: setuptools in /usr/local/lib/python3.10/dist-packages (from nvidia-cublas-cu11==11.10.3.66->torch==1.13.1->openpifpaf) (67.7.2)\n",
            "Requirement already satisfied: wheel in /usr/local/lib/python3.10/dist-packages (from nvidia-cublas-cu11==11.10.3.66->torch==1.13.1->openpifpaf) (0.40.0)\n",
            "Requirement already satisfied: zipp>=0.5 in /usr/local/lib/python3.10/dist-packages (from importlib-metadata!=3.8.0->openpifpaf) (3.15.0)\n",
            "Requirement already satisfied: pytz>=2019.3 in /usr/local/lib/python3.10/dist-packages (from pysparkling->openpifpaf) (2022.7.1)\n",
            "Requirement already satisfied: python-dateutil>=2.8.0 in /usr/local/lib/python3.10/dist-packages (from pysparkling->openpifpaf) (2.8.2)\n",
            "Requirement already satisfied: six>=1.5 in /usr/local/lib/python3.10/dist-packages (from python-dateutil>=2.8.0->pysparkling->openpifpaf) (1.16.0)\n",
            "Requirement already satisfied: urllib3<1.27,>=1.21.1 in /usr/local/lib/python3.10/dist-packages (from requests->torchvision==0.14.1->openpifpaf) (1.26.15)\n",
            "Requirement already satisfied: certifi>=2017.4.17 in /usr/local/lib/python3.10/dist-packages (from requests->torchvision==0.14.1->openpifpaf) (2022.12.7)\n",
            "Requirement already satisfied: charset-normalizer~=2.0.0 in /usr/local/lib/python3.10/dist-packages (from requests->torchvision==0.14.1->openpifpaf) (2.0.12)\n",
            "Requirement already satisfied: idna<4,>=2.5 in /usr/local/lib/python3.10/dist-packages (from requests->torchvision==0.14.1->openpifpaf) (3.4)\n",
            "Building wheels for collected packages: openpifpaf, pysparkling\n",
            "  Building wheel for openpifpaf (pyproject.toml) ... \u001b[?25l\u001b[?25hdone\n",
            "  Created wheel for openpifpaf: filename=openpifpaf-0.13.11-cp310-cp310-linux_x86_64.whl size=11302211 sha256=813e124fe27d6b1de72691b05995e1cf8e65158dab000accecdc272408b0f6fa\n",
            "  Stored in directory: /root/.cache/pip/wheels/42/b8/08/07959dec67c146680770f66246d35138febd2b7d21c733174a\n",
            "  Building wheel for pysparkling (setup.py) ... \u001b[?25l\u001b[?25hdone\n",
            "  Created wheel for pysparkling: filename=pysparkling-0.6.2-py3-none-any.whl size=185883 sha256=652d1ad9d2b72b4865c7d7813a3d7000cb2ffc81a4cdd15aeeb79c31cbf810b1\n",
            "  Stored in directory: /root/.cache/pip/wheels/65/4e/9f/ebee95d389ea78f11338ba3fe358c09d047f065c4d6ac4cd88\n",
            "Successfully built openpifpaf pysparkling\n",
            "Installing collected packages: python-json-logger, nvidia-cuda-runtime-cu11, nvidia-cuda-nvrtc-cu11, nvidia-cublas-cu11, importlib-metadata, pysparkling, nvidia-cudnn-cu11, torch, torchvision, openpifpaf\n",
            "  Attempting uninstall: torch\n",
            "    Found existing installation: torch 2.0.1+cu118\n",
            "    Uninstalling torch-2.0.1+cu118:\n",
            "      Successfully uninstalled torch-2.0.1+cu118\n",
            "  Attempting uninstall: torchvision\n",
            "    Found existing installation: torchvision 0.15.2+cu118\n",
            "    Uninstalling torchvision-0.15.2+cu118:\n",
            "      Successfully uninstalled torchvision-0.15.2+cu118\n",
            "\u001b[31mERROR: pip's dependency resolver does not currently take into account all the packages that are installed. This behaviour is the source of the following dependency conflicts.\n",
            "torchaudio 2.0.2+cu118 requires torch==2.0.1, but you have torch 1.13.1 which is incompatible.\n",
            "torchdata 0.6.1 requires torch==2.0.1, but you have torch 1.13.1 which is incompatible.\n",
            "torchtext 0.15.2 requires torch==2.0.1, but you have torch 1.13.1 which is incompatible.\u001b[0m\u001b[31m\n",
            "\u001b[0mSuccessfully installed importlib-metadata-6.6.0 nvidia-cublas-cu11-11.10.3.66 nvidia-cuda-nvrtc-cu11-11.7.99 nvidia-cuda-runtime-cu11-11.7.99 nvidia-cudnn-cu11-8.5.0.96 openpifpaf-0.13.11 pysparkling-0.6.2 python-json-logger-2.0.7 torch-1.13.1 torchvision-0.14.1\n"
          ]
        }
      ]
    },
    {
      "cell_type": "code",
      "source": [
        "import os\n",
        "\n",
        "# Create the main folder\n",
        "folder_path = '/content/test'\n",
        "os.makedirs(folder_path, exist_ok=True)\n",
        "\n",
        "# Create the subfolder\n",
        "subfolder_path = os.path.join(folder_path, 'checkpoints')\n",
        "os.makedirs(subfolder_path, exist_ok=True)\n",
        "\n",
        "# Create the file inside the subfolder\n",
        "file_path = os.path.join(subfolder_path, 'job.pt')\n",
        "open(file_path, 'w').close()\n",
        "\n",
        "print(f\"Folder structure created: {folder_path}\")\n",
        "print(f\"File created: {file_path}\")"
      ],
      "metadata": {
        "colab": {
          "base_uri": "https://localhost:8080/"
        },
        "id": "5ZA4NpoN9h17",
        "outputId": "88f818a2-91dc-4762-f807-1abf83550d1b"
      },
      "execution_count": null,
      "outputs": [
        {
          "output_type": "stream",
          "name": "stdout",
          "text": [
            "Folder structure created: /content/test\n",
            "File created: /content/test/checkpoints/job.pt\n"
          ]
        }
      ]
    },
    {
      "cell_type": "code",
      "source": [],
      "metadata": {
        "id": "iZkl0Nfp5Pq3"
      },
      "execution_count": 1,
      "outputs": []
    },
    {
      "cell_type": "code",
      "source": [],
      "metadata": {
        "id": "kfw1j60P9jwT"
      },
      "execution_count": 1,
      "outputs": []
    },
    {
      "cell_type": "code",
      "source": [
        "!python3 -m openpifpaf.train --ddp \\\n",
        "    --dataset=cocokp \\\n",
        "    --cocokp-square-edge=193 \\\n",
        "    --cocokp-extended-scale \\\n",
        "    --cocokp-orientation-invariant=0.1 \\\n",
        "    --cocokp-upsample=2 \\\n",
        "    --cocokp-train-annotations=/content/data-mscoco/annotations/person_keypoints_train2017.json \\\n",
        "    --cocokp-val-annotations=/content/data-mscoco/annotations/person_keypoints_val2017.json \\\n",
        "    --cocokp-train-image-dir=/content/data-mscoco/images/train2017/ \\\n",
        "    --cocokp-val-image-dir=/content/data-mscoco/images/val2017/ \\\n",
        "    --basenet=resnet50 \\\n",
        "    --epochs=1 \\\n",
        "    --batch-size=4 \\\n",
        "    --momentum=0.95 \\\n",
        "    --lr=0.001 \\\n",
        "    --output /content/test/checkpoints/job.pt \\\n",
        "    --log-interval=2"
      ],
      "metadata": {
        "id": "h1pfN4Ay9lqb"
      },
      "execution_count": null,
      "outputs": []
    },
    {
      "cell_type": "code",
      "source": [
        "!touch /content/test_results\n",
        "\n",
        "!python3 -m openpifpaf.predict \\  # Run the 'predict' module of OpenPifPaf\n",
        "    --checkpoint /content/test/checkpoints/job.pt \\  # Path to the trained model checkpoint\n",
        "    --image-dir /content/data-mscoco/images/test2017/ \\  # Directory containing test images\n",
        "    --output-dir /content/test_results  # Directory to save the output predictions"
      ],
      "metadata": {
        "id": "fihVoabgHHra"
      },
      "execution_count": null,
      "outputs": []
    }
  ]
}