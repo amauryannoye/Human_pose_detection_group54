{
  "cells": [
    {
      "cell_type": "markdown",
      "metadata": {
        "id": "view-in-github",
        "colab_type": "text"
      },
      "source": [
        "<a href=\"https://colab.research.google.com/github/amauryannoye/Human_pose_detection_group54/blob/main/OpenPifPaf_HrFormer.ipynb\" target=\"_parent\"><img src=\"https://colab.research.google.com/assets/colab-badge.svg\" alt=\"Open In Colab\"/></a>"
      ]
    },
    {
      "cell_type": "code",
      "execution_count": 63,
      "metadata": {
        "colab": {
          "base_uri": "https://localhost:8080/"
        },
        "id": "oV_ytp7PyIqr",
        "outputId": "369a38af-c41c-478a-b1a2-a3f10ba113af"
      },
      "outputs": [
        {
          "output_type": "stream",
          "name": "stdout",
          "text": [
            "fatal: could not create work tree dir 'vita-epfl-openpifpaf': No space left on device\n"
          ]
        }
      ],
      "source": [
        "#Clone the github state of the art\n",
        "!git clone https://github.com/michaelkoepf/vita-epfl-openpifpaf.git"
      ]
    },
    {
      "cell_type": "code",
      "execution_count": 64,
      "metadata": {
        "colab": {
          "base_uri": "https://localhost:8080/",
          "height": 762
        },
        "id": "-RmwKYfoyPgv",
        "outputId": "e3954570-8780-4cdb-eb2c-00981c2498a5"
      },
      "outputs": [
        {
          "output_type": "stream",
          "name": "stderr",
          "text": [
            "mkdir: cannot create directory ‘data-mscoco’: File exists\n",
            "mkdir: cannot create directory ‘images’: File exists\n",
            "train2017/000000224368.jpg:  write error (disk full?).  Continue? (y/n/^C) \n",
            "warning:  train2017/000000224368.jpg is probably truncated\n"
          ]
        },
        {
          "output_type": "error",
          "ename": "CalledProcessError",
          "evalue": "ignored",
          "traceback": [
            "\u001b[0;31m---------------------------------------------------------------------------\u001b[0m",
            "\u001b[0;31mCalledProcessError\u001b[0m                        Traceback (most recent call last)",
            "\u001b[0;32m<ipython-input-64-947e41fa6e20>\u001b[0m in \u001b[0;36m<cell line: 1>\u001b[0;34m()\u001b[0m\n\u001b[0;32m----> 1\u001b[0;31m \u001b[0mget_ipython\u001b[0m\u001b[0;34m(\u001b[0m\u001b[0;34m)\u001b[0m\u001b[0;34m.\u001b[0m\u001b[0mrun_cell_magic\u001b[0m\u001b[0;34m(\u001b[0m\u001b[0;34m'bash'\u001b[0m\u001b[0;34m,\u001b[0m \u001b[0;34m''\u001b[0m\u001b[0;34m,\u001b[0m \u001b[0;34m'\\nmkdir data-mscoco\\ncd data-mscoco\\n\\nwget -q -nc http://images.cocodataset.org/annotations/annotations_trainval2017.zip\\nwget -q -nc http://images.cocodataset.org/annotations/image_info_test2017.zip\\nunzip -q -n annotations_trainval2017.zip\\nunzip -q -n image_info_test2017.zip\\n\\nmkdir images\\ncd images\\nwget -q -nc http://images.cocodataset.org/zips/val2017.zip\\nwget -q -nc http://images.cocodataset.org/zips/train2017.zip\\nwget -q -nc http://images.cocodataset.org/zips/test2017.zip\\nunzip -q -n val2017.zip\\nunzip -q -n train2017.zip\\nunzip -q -n test2017.zip\\n'\u001b[0m\u001b[0;34m)\u001b[0m\u001b[0;34m\u001b[0m\u001b[0;34m\u001b[0m\u001b[0m\n\u001b[0m",
            "\u001b[0;32m/usr/local/lib/python3.10/dist-packages/google/colab/_shell.py\u001b[0m in \u001b[0;36mrun_cell_magic\u001b[0;34m(self, magic_name, line, cell)\u001b[0m\n\u001b[1;32m    332\u001b[0m     \u001b[0;32mif\u001b[0m \u001b[0mline\u001b[0m \u001b[0;32mand\u001b[0m \u001b[0;32mnot\u001b[0m \u001b[0mcell\u001b[0m\u001b[0;34m:\u001b[0m\u001b[0;34m\u001b[0m\u001b[0;34m\u001b[0m\u001b[0m\n\u001b[1;32m    333\u001b[0m       \u001b[0mcell\u001b[0m \u001b[0;34m=\u001b[0m \u001b[0;34m' '\u001b[0m\u001b[0;34m\u001b[0m\u001b[0;34m\u001b[0m\u001b[0m\n\u001b[0;32m--> 334\u001b[0;31m     \u001b[0;32mreturn\u001b[0m \u001b[0msuper\u001b[0m\u001b[0;34m(\u001b[0m\u001b[0;34m)\u001b[0m\u001b[0;34m.\u001b[0m\u001b[0mrun_cell_magic\u001b[0m\u001b[0;34m(\u001b[0m\u001b[0mmagic_name\u001b[0m\u001b[0;34m,\u001b[0m \u001b[0mline\u001b[0m\u001b[0;34m,\u001b[0m \u001b[0mcell\u001b[0m\u001b[0;34m)\u001b[0m\u001b[0;34m\u001b[0m\u001b[0;34m\u001b[0m\u001b[0m\n\u001b[0m\u001b[1;32m    335\u001b[0m \u001b[0;34m\u001b[0m\u001b[0m\n\u001b[1;32m    336\u001b[0m \u001b[0;34m\u001b[0m\u001b[0m\n",
            "\u001b[0;32m/usr/local/lib/python3.10/dist-packages/IPython/core/interactiveshell.py\u001b[0m in \u001b[0;36mrun_cell_magic\u001b[0;34m(self, magic_name, line, cell)\u001b[0m\n\u001b[1;32m   2471\u001b[0m             \u001b[0;32mwith\u001b[0m \u001b[0mself\u001b[0m\u001b[0;34m.\u001b[0m\u001b[0mbuiltin_trap\u001b[0m\u001b[0;34m:\u001b[0m\u001b[0;34m\u001b[0m\u001b[0;34m\u001b[0m\u001b[0m\n\u001b[1;32m   2472\u001b[0m                 \u001b[0margs\u001b[0m \u001b[0;34m=\u001b[0m \u001b[0;34m(\u001b[0m\u001b[0mmagic_arg_s\u001b[0m\u001b[0;34m,\u001b[0m \u001b[0mcell\u001b[0m\u001b[0;34m)\u001b[0m\u001b[0;34m\u001b[0m\u001b[0;34m\u001b[0m\u001b[0m\n\u001b[0;32m-> 2473\u001b[0;31m                 \u001b[0mresult\u001b[0m \u001b[0;34m=\u001b[0m \u001b[0mfn\u001b[0m\u001b[0;34m(\u001b[0m\u001b[0;34m*\u001b[0m\u001b[0margs\u001b[0m\u001b[0;34m,\u001b[0m \u001b[0;34m**\u001b[0m\u001b[0mkwargs\u001b[0m\u001b[0;34m)\u001b[0m\u001b[0;34m\u001b[0m\u001b[0;34m\u001b[0m\u001b[0m\n\u001b[0m\u001b[1;32m   2474\u001b[0m             \u001b[0;32mreturn\u001b[0m \u001b[0mresult\u001b[0m\u001b[0;34m\u001b[0m\u001b[0;34m\u001b[0m\u001b[0m\n\u001b[1;32m   2475\u001b[0m \u001b[0;34m\u001b[0m\u001b[0m\n",
            "\u001b[0;32m/usr/local/lib/python3.10/dist-packages/IPython/core/magics/script.py\u001b[0m in \u001b[0;36mnamed_script_magic\u001b[0;34m(line, cell)\u001b[0m\n\u001b[1;32m    140\u001b[0m             \u001b[0;32melse\u001b[0m\u001b[0;34m:\u001b[0m\u001b[0;34m\u001b[0m\u001b[0;34m\u001b[0m\u001b[0m\n\u001b[1;32m    141\u001b[0m                 \u001b[0mline\u001b[0m \u001b[0;34m=\u001b[0m \u001b[0mscript\u001b[0m\u001b[0;34m\u001b[0m\u001b[0;34m\u001b[0m\u001b[0m\n\u001b[0;32m--> 142\u001b[0;31m             \u001b[0;32mreturn\u001b[0m \u001b[0mself\u001b[0m\u001b[0;34m.\u001b[0m\u001b[0mshebang\u001b[0m\u001b[0;34m(\u001b[0m\u001b[0mline\u001b[0m\u001b[0;34m,\u001b[0m \u001b[0mcell\u001b[0m\u001b[0;34m)\u001b[0m\u001b[0;34m\u001b[0m\u001b[0;34m\u001b[0m\u001b[0m\n\u001b[0m\u001b[1;32m    143\u001b[0m \u001b[0;34m\u001b[0m\u001b[0m\n\u001b[1;32m    144\u001b[0m         \u001b[0;31m# write a basic docstring:\u001b[0m\u001b[0;34m\u001b[0m\u001b[0;34m\u001b[0m\u001b[0m\n",
            "\u001b[0;32m<decorator-gen-103>\u001b[0m in \u001b[0;36mshebang\u001b[0;34m(self, line, cell)\u001b[0m\n",
            "\u001b[0;32m/usr/local/lib/python3.10/dist-packages/IPython/core/magic.py\u001b[0m in \u001b[0;36m<lambda>\u001b[0;34m(f, *a, **k)\u001b[0m\n\u001b[1;32m    185\u001b[0m     \u001b[0;31m# but it's overkill for just that one bit of state.\u001b[0m\u001b[0;34m\u001b[0m\u001b[0;34m\u001b[0m\u001b[0m\n\u001b[1;32m    186\u001b[0m     \u001b[0;32mdef\u001b[0m \u001b[0mmagic_deco\u001b[0m\u001b[0;34m(\u001b[0m\u001b[0marg\u001b[0m\u001b[0;34m)\u001b[0m\u001b[0;34m:\u001b[0m\u001b[0;34m\u001b[0m\u001b[0;34m\u001b[0m\u001b[0m\n\u001b[0;32m--> 187\u001b[0;31m         \u001b[0mcall\u001b[0m \u001b[0;34m=\u001b[0m \u001b[0;32mlambda\u001b[0m \u001b[0mf\u001b[0m\u001b[0;34m,\u001b[0m \u001b[0;34m*\u001b[0m\u001b[0ma\u001b[0m\u001b[0;34m,\u001b[0m \u001b[0;34m**\u001b[0m\u001b[0mk\u001b[0m\u001b[0;34m:\u001b[0m \u001b[0mf\u001b[0m\u001b[0;34m(\u001b[0m\u001b[0;34m*\u001b[0m\u001b[0ma\u001b[0m\u001b[0;34m,\u001b[0m \u001b[0;34m**\u001b[0m\u001b[0mk\u001b[0m\u001b[0;34m)\u001b[0m\u001b[0;34m\u001b[0m\u001b[0;34m\u001b[0m\u001b[0m\n\u001b[0m\u001b[1;32m    188\u001b[0m \u001b[0;34m\u001b[0m\u001b[0m\n\u001b[1;32m    189\u001b[0m         \u001b[0;32mif\u001b[0m \u001b[0mcallable\u001b[0m\u001b[0;34m(\u001b[0m\u001b[0marg\u001b[0m\u001b[0;34m)\u001b[0m\u001b[0;34m:\u001b[0m\u001b[0;34m\u001b[0m\u001b[0;34m\u001b[0m\u001b[0m\n",
            "\u001b[0;32m/usr/local/lib/python3.10/dist-packages/IPython/core/magics/script.py\u001b[0m in \u001b[0;36mshebang\u001b[0;34m(self, line, cell)\u001b[0m\n\u001b[1;32m    243\u001b[0m             \u001b[0msys\u001b[0m\u001b[0;34m.\u001b[0m\u001b[0mstderr\u001b[0m\u001b[0;34m.\u001b[0m\u001b[0mflush\u001b[0m\u001b[0;34m(\u001b[0m\u001b[0;34m)\u001b[0m\u001b[0;34m\u001b[0m\u001b[0;34m\u001b[0m\u001b[0m\n\u001b[1;32m    244\u001b[0m         \u001b[0;32mif\u001b[0m \u001b[0margs\u001b[0m\u001b[0;34m.\u001b[0m\u001b[0mraise_error\u001b[0m \u001b[0;32mand\u001b[0m \u001b[0mp\u001b[0m\u001b[0;34m.\u001b[0m\u001b[0mreturncode\u001b[0m\u001b[0;34m!=\u001b[0m\u001b[0;36m0\u001b[0m\u001b[0;34m:\u001b[0m\u001b[0;34m\u001b[0m\u001b[0;34m\u001b[0m\u001b[0m\n\u001b[0;32m--> 245\u001b[0;31m             \u001b[0;32mraise\u001b[0m \u001b[0mCalledProcessError\u001b[0m\u001b[0;34m(\u001b[0m\u001b[0mp\u001b[0m\u001b[0;34m.\u001b[0m\u001b[0mreturncode\u001b[0m\u001b[0;34m,\u001b[0m \u001b[0mcell\u001b[0m\u001b[0;34m,\u001b[0m \u001b[0moutput\u001b[0m\u001b[0;34m=\u001b[0m\u001b[0mout\u001b[0m\u001b[0;34m,\u001b[0m \u001b[0mstderr\u001b[0m\u001b[0;34m=\u001b[0m\u001b[0merr\u001b[0m\u001b[0;34m)\u001b[0m\u001b[0;34m\u001b[0m\u001b[0;34m\u001b[0m\u001b[0m\n\u001b[0m\u001b[1;32m    246\u001b[0m \u001b[0;34m\u001b[0m\u001b[0m\n\u001b[1;32m    247\u001b[0m     \u001b[0;32mdef\u001b[0m \u001b[0m_run_script\u001b[0m\u001b[0;34m(\u001b[0m\u001b[0mself\u001b[0m\u001b[0;34m,\u001b[0m \u001b[0mp\u001b[0m\u001b[0;34m,\u001b[0m \u001b[0mcell\u001b[0m\u001b[0;34m,\u001b[0m \u001b[0mto_close\u001b[0m\u001b[0;34m)\u001b[0m\u001b[0;34m:\u001b[0m\u001b[0;34m\u001b[0m\u001b[0;34m\u001b[0m\u001b[0m\n",
            "\u001b[0;31mCalledProcessError\u001b[0m: Command 'b'\\nmkdir data-mscoco\\ncd data-mscoco\\n\\nwget -q -nc http://images.cocodataset.org/annotations/annotations_trainval2017.zip\\nwget -q -nc http://images.cocodataset.org/annotations/image_info_test2017.zip\\nunzip -q -n annotations_trainval2017.zip\\nunzip -q -n image_info_test2017.zip\\n\\nmkdir images\\ncd images\\nwget -q -nc http://images.cocodataset.org/zips/val2017.zip\\nwget -q -nc http://images.cocodataset.org/zips/train2017.zip\\nwget -q -nc http://images.cocodataset.org/zips/test2017.zip\\nunzip -q -n val2017.zip\\nunzip -q -n train2017.zip\\nunzip -q -n test2017.zip\\n'' returned non-zero exit status 50."
          ]
        }
      ],
      "source": [
        "\n",
        "%%bash \n",
        "\n",
        "mkdir data-mscoco  # Create a new directory called \"data-mscoco\".\n",
        "cd data-mscoco  # Change the current working directory to \"data-mscoco\".\n",
        "\n",
        "wget -q -nc http://images.cocodataset.org/annotations/annotations_trainval2017.zip  # Download the annotations file for training and validation data.\n",
        "wget -q -nc http://images.cocodataset.org/annotations/image_info_test2017.zip  # Download the annotations file for the test data.\n",
        "unzip -q -n annotations_trainval2017.zip  # Extract the training and validation annotations.\n",
        "\n",
        "unzip -q -n image_info_test2017.zip  # Extract the test annotations.\n",
        "\n",
        "mkdir images  # Create a new directory called \"images\" inside the \"data-mscoco\" directory.\n",
        "cd images  # Change the current working directory to the \"images\" directory.\n",
        "\n",
        "wget -q -nc http://images.cocodataset.org/zips/val2017.zip  # Download the validation images zip file.\n",
        "wget -q -nc http://images.cocodataset.org/zips/train2017.zip  # Download the training images zip file.\n",
        "wget -q -nc http://images.cocodataset.org/zips/test2017.zip  # Download the test images zip file.\n",
        "\n",
        "unzip -q -n val2017.zip  # Extract the validation images.\n",
        "unzip -q -n train2017.zip  # Extract the training images.\n",
        "unzip -q -n test2017.zip  # Extract the test images.\n"
      ]
    },
    {
      "cell_type": "code",
      "execution_count": null,
      "metadata": {
        "colab": {
          "background_save": true,
          "base_uri": "https://localhost:8080/"
        },
        "id": "8_43cswcyTyp",
        "outputId": "1ae24c16-7b95-46b1-b94a-4bd7b6fe309c"
      },
      "outputs": [
        {
          "name": "stdout",
          "output_type": "stream",
          "text": [
            "[Errno 2] No such file or directory: 'openpifpaf/'\n",
            "/content\n",
            "Looking in indexes: https://pypi.org/simple, https://us-python.pkg.dev/colab-wheels/public/simple/\n",
            "Requirement already satisfied: pip in /usr/local/lib/python3.10/dist-packages (23.1.2)\n",
            "Looking in indexes: https://pypi.org/simple, https://us-python.pkg.dev/colab-wheels/public/simple/\n",
            "Obtaining file:///content\n",
            "\u001b[31mERROR: file:///content does not appear to be a Python project: neither 'setup.py' nor 'pyproject.toml' found.\u001b[0m\u001b[31m\n",
            "\u001b[0mLooking in indexes: https://pypi.org/simple, https://us-python.pkg.dev/colab-wheels/public/simple/\n",
            "Obtaining file:///content\n",
            "\u001b[31mERROR: file:///content does not appear to be a Python project: neither 'setup.py' nor 'pyproject.toml' found.\u001b[0m\u001b[31m\n",
            "\u001b[0m/\n"
          ]
        }
      ],
      "source": [
        "%cd openpifpaf/  # Change the current working directory to \"openpifpaf/\".\n",
        "\n",
        "!pip install --upgrade pip  # Upgrade pip to the latest version.\n",
        "!pip install --editable \".\"  # Install OpenPifPaf in editable mode.\n",
        "!pip install --editable \".[backbones,dev,test,train]\"  # Install additional dependencies for backbones, dev, test, and train.\n",
        "\n",
        "%cd ..  # Move back to the previous directory.\n",
        "\n",
        "!ln -s /work/vita/datasets/data-coco data-mscoco  # Create a symbolic link to the \"data-coco\" directory as \"data-mscoco\"."
      ]
    },
    {
      "cell_type": "code",
      "execution_count": null,
      "metadata": {
        "id": "g0VaDAZPyVpR"
      },
      "outputs": [],
      "source": [
        "# Install openpifpaf package\n",
        "!pip install openpifpaf"
      ]
    },
    {
      "cell_type": "code",
      "execution_count": null,
      "metadata": {
        "colab": {
          "base_uri": "https://localhost:8080/"
        },
        "id": "Fkn6ZS3VyaJg",
        "outputId": "ce9ee4a3-c4fd-455c-fe62-1588ffa42e82"
      },
      "outputs": [
        {
          "name": "stdout",
          "output_type": "stream",
          "text": [
            "Folder structure created: /content/test\n",
            "File created: /content/test/checkpoints/job.pt\n"
          ]
        }
      ],
      "source": [
        "import os\n",
        "\n",
        "# Create the main folder\n",
        "folder_path = '/content/test'\n",
        "os.makedirs(folder_path, exist_ok=True)\n",
        "# The os.makedirs() function creates the main folder at the specified path '/content/test'.\n",
        "# The exist_ok=True parameter ensures that the function doesn't raise an exception if the folder already exists.\n",
        "\n",
        "# Create the subfolder\n",
        "subfolder_path = os.path.join(folder_path, 'checkpoints')\n",
        "os.makedirs(subfolder_path, exist_ok=True)\n",
        "# The os.path.join() function is used to combine the main folder path with the subfolder name ('checkpoints').\n",
        "# The os.makedirs() function creates the subfolder at the specified path.\n",
        "# The exist_ok=True parameter ensures that the function doesn't raise an exception if the folder already exists.\n",
        "\n",
        "# Create the file inside the subfolder\n",
        "file_path = os.path.join(subfolder_path, 'job.pt')\n",
        "open(file_path, 'w').close()\n",
        "# The os.path.join() function is used to combine the subfolder path with the file name ('job.pt').\n",
        "# The open() function is used to create the file at the specified path.\n",
        "# The mode 'w' indicates that the file is opened in write mode.\n",
        "# The .close() method is immediately called to close the file after creating it.\n",
        "\n",
        "print(f\"Folder structure created: {folder_path}\")\n",
        "print(f\"File created: {file_path}\")\n",
        "# Print statements to confirm the successful creation of the folder structure and the file."
      ]
    },
    {
      "cell_type": "code",
      "source": [
        "# Upgrade pip package installer\n",
        "!pip install --upgrade pip"
      ],
      "metadata": {
        "colab": {
          "base_uri": "https://localhost:8080/"
        },
        "id": "L29MaLcob4US",
        "outputId": "8f4a461b-a380-4007-80b0-a7ed5e4c99e0"
      },
      "execution_count": 57,
      "outputs": [
        {
          "output_type": "stream",
          "name": "stdout",
          "text": [
            "Looking in indexes: https://pypi.org/simple, https://us-python.pkg.dev/colab-wheels/public/simple/\n",
            "Requirement already satisfied: pip in /usr/local/lib/python3.10/dist-packages (23.1.2)\n"
          ]
        }
      ]
    },
    {
      "cell_type": "code",
      "source": [
        "# Install openpifpaf-vita package\n",
        "!pip install openpifpaf-vita\n",
        "\n",
        "# Install matplotlib package\n",
        "!pip install matplotlib\n"
      ],
      "metadata": {
        "colab": {
          "base_uri": "https://localhost:8080/"
        },
        "id": "1mRF04HLcHiO",
        "outputId": "e7dc1edc-969f-41df-fe54-aa91666b7da3"
      },
      "execution_count": 61,
      "outputs": [
        {
          "output_type": "stream",
          "name": "stdout",
          "text": [
            "Looking in indexes: https://pypi.org/simple, https://us-python.pkg.dev/colab-wheels/public/simple/\n",
            "Requirement already satisfied: openpifpaf-vita in /usr/local/lib/python3.10/dist-packages/openpifpaf_vita-0.14.0+18.g0b83607.dirty-py3.10-linux-x86_64.egg (0.14.0+18.g0b83607.dirty)\n",
            "Requirement already satisfied: importlib_metadata!=3.8.0 in /usr/local/lib/python3.10/dist-packages (from openpifpaf-vita) (6.6.0)\n",
            "Requirement already satisfied: numpy>=1.16 in /usr/local/lib/python3.10/dist-packages (from openpifpaf-vita) (1.22.4)\n",
            "Requirement already satisfied: pysparkling in /usr/local/lib/python3.10/dist-packages (from openpifpaf-vita) (0.6.2)\n",
            "Requirement already satisfied: python-json-logger in /usr/local/lib/python3.10/dist-packages (from openpifpaf-vita) (2.0.7)\n",
            "INFO: pip is looking at multiple versions of openpifpaf-vita to determine which version is compatible with other requirements. This could take a while.\n",
            "Collecting openpifpaf-vita\n",
            "  Using cached openpifpaf-vita-0.14.0.tar.gz (224 kB)\n",
            "  \u001b[1;31merror\u001b[0m: \u001b[1msubprocess-exited-with-error\u001b[0m\n",
            "  \n",
            "  \u001b[31m×\u001b[0m \u001b[32mpip subprocess to install build dependencies\u001b[0m did not run successfully.\n",
            "  \u001b[31m│\u001b[0m exit code: \u001b[1;36m1\u001b[0m\n",
            "  \u001b[31m╰─>\u001b[0m See above for output.\n",
            "  \n",
            "  \u001b[1;35mnote\u001b[0m: This error originates from a subprocess, and is likely not a problem with pip.\n",
            "  Installing build dependencies ... \u001b[?25l\u001b[?25herror\n",
            "\u001b[1;31merror\u001b[0m: \u001b[1msubprocess-exited-with-error\u001b[0m\n",
            "\n",
            "\u001b[31m×\u001b[0m \u001b[32mpip subprocess to install build dependencies\u001b[0m did not run successfully.\n",
            "\u001b[31m│\u001b[0m exit code: \u001b[1;36m1\u001b[0m\n",
            "\u001b[31m╰─>\u001b[0m See above for output.\n",
            "\n",
            "\u001b[1;35mnote\u001b[0m: This error originates from a subprocess, and is likely not a problem with pip.\n",
            "Looking in indexes: https://pypi.org/simple, https://us-python.pkg.dev/colab-wheels/public/simple/\n",
            "Requirement already satisfied: matplotlib in /usr/local/lib/python3.10/dist-packages (3.7.1)\n",
            "Requirement already satisfied: contourpy>=1.0.1 in /usr/local/lib/python3.10/dist-packages (from matplotlib) (1.0.7)\n",
            "Requirement already satisfied: cycler>=0.10 in /usr/local/lib/python3.10/dist-packages (from matplotlib) (0.11.0)\n",
            "Requirement already satisfied: fonttools>=4.22.0 in /usr/local/lib/python3.10/dist-packages (from matplotlib) (4.39.3)\n",
            "Requirement already satisfied: kiwisolver>=1.0.1 in /usr/local/lib/python3.10/dist-packages (from matplotlib) (1.4.4)\n",
            "Requirement already satisfied: numpy>=1.20 in /usr/local/lib/python3.10/dist-packages (from matplotlib) (1.22.4)\n",
            "Requirement already satisfied: packaging>=20.0 in /usr/local/lib/python3.10/dist-packages (from matplotlib) (23.1)\n",
            "Requirement already satisfied: pillow>=6.2.0 in /usr/local/lib/python3.10/dist-packages (from matplotlib) (8.4.0)\n",
            "Requirement already satisfied: pyparsing>=2.3.1 in /usr/local/lib/python3.10/dist-packages (from matplotlib) (3.0.9)\n",
            "Requirement already satisfied: python-dateutil>=2.7 in /usr/local/lib/python3.10/dist-packages (from matplotlib) (2.8.2)\n",
            "Requirement already satisfied: six>=1.5 in /usr/local/lib/python3.10/dist-packages (from python-dateutil>=2.7->matplotlib) (1.16.0)\n"
          ]
        }
      ]
    },
    {
      "cell_type": "code",
      "source": [
        "# Change directory to '/content/vita-epfl-openpifpaf'\n",
        "%cd /content/vita-epfl-openpifpaf\n",
        "\n",
        "# Install the package with additional dependencies\n",
        "!pip install --no-cache-dir --editable '.[train,test,coreml,backbones]'\n"
      ],
      "metadata": {
        "colab": {
          "base_uri": "https://localhost:8080/"
        },
        "id": "1OUu8RCWZaw3",
        "outputId": "0ca1f9e9-fbd2-462e-9aad-341c1d7526c5"
      },
      "execution_count": 58,
      "outputs": [
        {
          "output_type": "stream",
          "name": "stdout",
          "text": [
            "/content/vita-epfl-openpifpaf\n",
            "Looking in indexes: https://pypi.org/simple, https://us-python.pkg.dev/colab-wheels/public/simple/\n",
            "Obtaining file:///content/vita-epfl-openpifpaf\n",
            "  \u001b[1;31merror\u001b[0m: \u001b[1msubprocess-exited-with-error\u001b[0m\n",
            "  \n",
            "  \u001b[31m×\u001b[0m \u001b[32mpip subprocess to install build dependencies\u001b[0m did not run successfully.\n",
            "  \u001b[31m│\u001b[0m exit code: \u001b[1;36m1\u001b[0m\n",
            "  \u001b[31m╰─>\u001b[0m See above for output.\n",
            "  \n",
            "  \u001b[1;35mnote\u001b[0m: This error originates from a subprocess, and is likely not a problem with pip.\n",
            "  Installing build dependencies ... \u001b[?25l\u001b[?25herror\n",
            "\u001b[1;31merror\u001b[0m: \u001b[1msubprocess-exited-with-error\u001b[0m\n",
            "\n",
            "\u001b[31m×\u001b[0m \u001b[32mpip subprocess to install build dependencies\u001b[0m did not run successfully.\n",
            "\u001b[31m│\u001b[0m exit code: \u001b[1;36m1\u001b[0m\n",
            "\u001b[31m╰─>\u001b[0m See above for output.\n",
            "\n",
            "\u001b[1;35mnote\u001b[0m: This error originates from a subprocess, and is likely not a problem with pip.\n"
          ]
        }
      ]
    },
    {
      "cell_type": "code",
      "execution_count": 55,
      "metadata": {
        "colab": {
          "base_uri": "https://localhost:8080/"
        },
        "id": "W-s9gEVZycjg",
        "outputId": "47364b03-150f-4403-ae17-75c57be4041d"
      },
      "outputs": [
        {
          "output_type": "stream",
          "name": "stdout",
          "text": [
            "usage: python3 -m openpifpaf.train [options]\n",
            "python3 -m openpifpaf.train: error: unrecognized arguments: --hrformer-checkpoint=content/hrt_tiny.pth\n"
          ]
        }
      ],
      "source": [
        "# Run openpifpaf training with the specified arguments\n",
        "!python3 -m openpifpaf.train --ddp \\\n",
        "  --dataset=cocokp \\\n",
        "  --cocokp-square-edge=193 \\\n",
        "  --cocokp-extended-scale \\\n",
        "  --cocokp-orientation-invariant=0.1 \\\n",
        "  --cocokp-upsample=2 \\\n",
        "  --cocokp-train-annotations=/content/data-mscoco/annotations/person_keypoints_train2017.json \\\n",
        "  --cocokp-val-annotations=/content/data-mscoco/annotations/person_keypoints_val2017.json \\\n",
        "  --cocokp-train-image-dir=/content/data-mscoco/images/train2017/ \\\n",
        "  --cocokp-val-image-dir=/content/data-mscoco/images/val2017/ \\\n",
        "  --basenet=resnet50 \\\n",
        "  --epochs=1 \\\n",
        "  --batch-size=4 \\\n",
        "  --momentum=0.95 \\\n",
        "  --lr=0.001 \\\n",
        "  --output /content/test/checkpoints/job.pt \\\n",
        "  --log-interval=2 \\\n",
        "  --basenet=hrformer_t \\\n",
        "  --hrformer-checkpoint=content/hrt_tiny.pth"
      ]
    },
    {
      "cell_type": "code",
      "source": [
        "!touch /content/test_results"
      ],
      "metadata": {
        "id": "0Ty8smSOvphR"
      },
      "execution_count": null,
      "outputs": []
    },
    {
      "cell_type": "code",
      "execution_count": null,
      "metadata": {
        "id": "sPfKbpN0mW05"
      },
      "outputs": [],
      "source": [
        "!python3 -m openpifpaf.predict \\  # Run the 'predict' module of OpenPifPaf\n",
        "    --checkpoint /content/test/checkpoints/job.pt \\  # Path to the trained model checkpoint\n",
        "    --image-dir /content/data-mscoco/images/test2017/ \\  # Directory containing test images\n",
        "    --output-dir /content/test_results  # Directory to save the output predictions"
      ]
    },
    {
      "cell_type": "code",
      "execution_count": 64,
      "metadata": {
        "id": "B7i5FBjkm57i"
      },
      "outputs": [],
      "source": []
    },
    {
      "cell_type": "code",
      "execution_count": 64,
      "metadata": {
        "id": "zd-4fLPz2arJ"
      },
      "outputs": [],
      "source": []
    },
    {
      "cell_type": "code",
      "execution_count": null,
      "metadata": {
        "id": "Jy1uk0Lp5xsS"
      },
      "outputs": [],
      "source": []
    }
  ],
  "metadata": {
    "colab": {
      "provenance": [],
      "authorship_tag": "ABX9TyP7qbroslzAucDXxAEx+FWy",
      "include_colab_link": true
    },
    "kernelspec": {
      "display_name": "Python 3",
      "name": "python3"
    },
    "language_info": {
      "name": "python"
    }
  },
  "nbformat": 4,
  "nbformat_minor": 0
}